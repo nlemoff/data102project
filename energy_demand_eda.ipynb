{
 "cells": [
  {
   "cell_type": "code",
   "execution_count": 4,
   "id": "b4bb28c9",
   "metadata": {},
   "outputs": [],
   "source": [
    "import requests\n",
    "import pandas as pd\n",
    "import json"
   ]
  },
  {
   "cell_type": "code",
   "execution_count": 5,
   "id": "ad943ee0",
   "metadata": {},
   "outputs": [],
   "source": [
    "api_key = 'vgyKsY7pYEHEeo0dncg7ho5nlLp0h2JjAAMBT6nL'"
   ]
  },
  {
   "cell_type": "code",
   "execution_count": null,
   "id": "86f0f632",
   "metadata": {},
   "outputs": [],
   "source": []
  },
  {
   "cell_type": "code",
   "execution_count": 3,
   "id": "9d5c7291",
   "metadata": {},
   "outputs": [],
   "source": [
    "def fetch_eia_data(data_type, respondent, start_date, end_date):\n",
    "    params = {\n",
    "        'frequency': 'daily',\n",
    "        'data[0]': 'value',\n",
    "        'facets[respondent][]': respondent,  # Balancing authority\n",
    "        'facets[type][]': data_type,  # 'D' for Demand, 'NG' for Net Generation\n",
    "        'start': start_date,\n",
    "        'end': end_date,\n",
    "        'api_key': api_key\n",
    "    }\n",
    "    response = requests.get(url, params=params)\n",
    "    if response.status_code == 200:\n",
    "        return pd.DataFrame(response.json()['response']['data'])\n",
    "    else:\n",
    "        print(f\"Error: {response.status_code}\")\n",
    "        print(response.json())\n",
    "        return pd.DataFrame()"
   ]
  },
  {
   "cell_type": "code",
   "execution_count": 8,
   "id": "cb3e5788",
   "metadata": {},
   "outputs": [],
   "source": [
    "url = \"https://api.eia.gov/v2/electricity/rto/daily-region-sub-ba-data/data/?frequency=daily&data[0]=value&facets[subba][]=PGAE&facets[timezone][]=Pacific&sort[0][column]=period&sort[0][direction]=desc&offset=0&length=5000\""
   ]
  },
  {
   "cell_type": "code",
   "execution_count": 17,
   "id": "a3d5a030",
   "metadata": {},
   "outputs": [],
   "source": [
    "params = {'api_key':'vgyKsY7pYEHEeo0dncg7ho5nlLp0h2JjA