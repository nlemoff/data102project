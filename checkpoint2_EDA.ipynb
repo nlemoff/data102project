{
 "cells": [
  {
   "cell_type": "code",
   "execution_count": 2,
   "metadata": {
    "id": "X-82GpZBWN-f"
   },
   "outputs": [],
   "source": [
    "import pandas as pd\n",
    "import numpy as np\n",
    "\n",
    "emissions_df = pd.read_csv('state_emissions.csv')\n",
    "energy_df = pd.read_csv('state_wise_energy_all_sectors.csv')\n",
    "temperature_df = pd.read_csv('temperature_data_2023.csv')"
   ]
  },
  {
   "cell_type": "markdown",
   "metadata": {
    "id": "BdY9TZF0q1Qc"
   },
   "source": [
    "## Method\n",
    "The research aims to estimate the causal effect of increased electricity demand on carbon emissions across different U.S. states and throughout various times of the year. The treatment variable, electricity demand, is measured in megawatt-hours, while the outcome variable, carbon emissions, is measured in metric tons of CO2. \\\n",
    "**Treatment Variable:** Electricity demand. This is expected to be a primary driver of emissions, as higher demand often leads to greater electricity generation, potentially from carbon-intensive sources. \\\n",
    "**Outcome Variable:** Carbon emission levels. This represents the environmental impact associated with increased electricity demand. \\\n",
    "**Units of Analysis:** State-month observations, where each data point corresponds to a state (California) in a specific month. \\\n",
    "**Confounders:** Economic activity, state energy policies, demographic factors... \\\n",
    "**Instrumental Variable:** Temperature extremes. Temperature affects electricity demand, particularly during extreme heat or cold, as people use more electricity for heating or cooling.\n",
    "\n"
   ]
  },
  {
   "cell_type": "code",
   "execution_count": 3,
   "metadata": {
    "colab": {
     "base_uri": "https://localhost:8080/",
     "height": 382
    },
    "id": "aLKFCisiWgLM",
    "outputId": "fcf4fb63-0034-4b09-c2df-6849e134428f"
   },
   "outputs": [
    {
     "data": {
      "text/html": [
       "<div>\n",
       "<style scoped>\n",
       "    .dataframe tbody tr th:only-of-type {\n",
       "        vertical-align: middle;\n",
       "    }\n",
       "\n",
       "    .dataframe tbody tr th {\n",
       "        vertical-align: top;\n",
       "    }\n",
       "\n",
       "    .dataframe thead th {\n",
       "        text-align: right;\n",
       "    }\n",
       "</style>\n",
       "<table border=\"1\" class=\"dataframe\">\n",
       "  <thead>\n",
       "    <tr style=\"text-align: right;\">\n",
       "      <th></th>\n",
       "      <th>period</th>\n",
       "      <th>stateid</th>\n",
       "      <th>stateDescription</th>\n",
       "      <th>fuelid</th>\n",
       "      <th>fuelDescription</th>\n",
       "      <th>co2-rate-lbs-mwh</th>\n",
       "      <th>co2-thousand-metric-tons</th>\n",
       "      <th>nox-rate-lbs-mwh</th>\n",
       "      <th>nox-short-tons</th>\n",
       "      <th>so2-rate-lbs-mwh</th>\n",
       "      <th>so2-short-tons</th>\n",
       "      <th>co2-rate-lbs-mwh-units</th>\n",
       "      <th>co2-thousand-metric-tons-units</th>\n",
       "      <th>nox-rate-lbs-mwh-units</th>\n",
       "      <th>nox-short-tons-units</th>\n",
       "      <th>so2-rate-lbs-mwh-units</th>\n",
       "      <th>so2-short-tons-units</th>\n",
       "    </tr>\n",
       "  </thead>\n",
       "  <tbody>\n",
       "    <tr>\n",
       "      <th>0</th>\n",
       "      <td>2023</td>\n",
       "      <td>AZ</td>\n",
       "      <td>Arizona</td>\n",
       "      <td>COL</td>\n",
       "      <td>Coal</td>\n",
       "      <td>NaN</td>\n",
       "      <td>12863</td>\n",
       "      <td>NaN</td>\n",
       "      <td>9238</td>\n",
       "      <td>NaN</td>\n",
       "      <td>6854</td>\n",
       "      <td>pounds per megawatthour</td>\n",
       "      <td>thousand metric tons</td>\n",
       "      <td>pounds per megawatthour</td>\n",
       "      <td>short tons</td>\n",
       "      <td>pounds per megawatthour</td>\n",
       "      <td>short tons</td>\n",
       "    </tr>\n",
       "    <tr>\n",
       "      <th>1</th>\n",
       "      <td>2023</td>\n",
       "      <td>WY</td>\n",
       "      <td>Wyoming</td>\n",
       "      <td>ALL</td>\n",
       "      <td>Total</td>\n",
       "      <td>1864.0</td>\n",
       "      <td>36580</td>\n",
       "      <td>1.4</td>\n",
       "      <td>31178</td>\n",
       "      <td>1.1</td>\n",
       "      <td>24209</td>\n",
       "      <td>pounds per megawatthour</td>\n",
       "      <td>thousand metric tons</td>\n",
       "      <td>pounds per megawatthour</td>\n",
       "      <td>short tons</td>\n",
       "      <td>pounds per megawatthour</td>\n",
       "      <td>short tons</td>\n",
       "    </tr>\n",
       "    <tr>\n",
       "      <th>2</th>\n",
       "      <td>2023</td>\n",
       "      <td>WY</td>\n",
       "      <td>Wyoming</td>\n",
       "      <td>PET</td>\n",
       "      <td>Petroleum</td>\n",
       "      <td>NaN</td>\n",
       "      <td>37</td>\n",
       "      <td>NaN</td>\n",
       "      <td>22</td>\n",
       "      <td>NaN</td>\n",
       "      <td>13</td>\n",
       "      <td>pounds per megawatthour</td>\n",
       "      <td>thousand metric tons</td>\n",
       "      <td>pounds per megawatthour</td>\n",
       "      <td>short tons</td>\n",
       "      <td>pounds per megawatthour</td>\n",
       "      <td>short tons</td>\n",
       "    </tr>\n",
       "    <tr>\n",
       "      <th>3</th>\n",
       "      <td>2023</td>\n",
       "      <td>WY</td>\n",
       "      <td>Wyoming</td>\n",
       "      <td>OTH</td>\n",
       "      <td>Other</td>\n",
       "      <td>NaN</td>\n",
       "      <td>0</td>\n",
       "      <td>NaN</td>\n",
       "      <td>3436</td>\n",
       "      <td>NaN</td>\n",
       "      <td>8</td>\n",
       "      <td>pounds per megawatthour</td>\n",
       "      <td>thousand metric tons</td>\n",
       "      <td>pounds per megawatthour</td>\n",
       "      <td>short tons</td>\n",
       "      <td>pounds per megawatthour</td>\n",
       "      <td>short tons</td>\n",
       "    </tr>\n",
       "    <tr>\n",
       "      <th>4</th>\n",
       "      <td>2023</td>\n",
       "      <td>WY</td>\n",
       "      <td>Wyoming</td>\n",
       "      <td>NG</td>\n",
       "      <td>Natural Gas</td>\n",
       "      <td>NaN</td>\n",
       "      <td>1516</td>\n",
       "      <td>NaN</td>\n",
       "      <td>2489</td>\n",
       "      <td>NaN</td>\n",
       "      <td>9</td>\n",
       "      <td>pounds per megawatthour</td>\n",
       "      <td>thousand metric tons</td>\n",
       "      <td>pounds per megawatthour</td>\n",
       "      <td>short tons</td>\n",
       "      <td>pounds per megawatthour</td>\n",
       "      <td>short tons</td>\n",
       "    </tr>\n",
       "  </tbody>\n",
       "</table>\n",
       "</div>"
      ],
      "text/plain": [
       "   period stateid stateDescription fuelid fuelDescription  co2-rate-lbs-mwh  \\\n",
       "0    2023      AZ          Arizona    COL            Coal               NaN   \n",
       "1    2023      WY          Wyoming    ALL           Total            1864.0   \n",
       "2    2023      WY          Wyoming    PET       Petroleum               NaN   \n",
       "3    2023      WY          Wyoming    OTH           Other               NaN   \n",
       "4    2023      WY          Wyoming     NG     Natural Gas               NaN   \n",
       "\n",
       "   co2-thousand-metric-tons  nox-rate-lbs-mwh  nox-short-tons  \\\n",
       "0                     12863               NaN            9238   \n",
       "1                     36580               1.4           31178   \n",
       "2                        37               NaN              22   \n",
       "3                         0               NaN            3436   \n",
       "4                      1516               NaN            2489   \n",
       "\n",
       "   so2-rate-lbs-mwh  so2-short-tons   co2-rate-lbs-mwh-units  \\\n",
       "0               NaN            6854  pounds per megawatthour   \n",
       "1               1.1           24209  pounds per megawatthour   \n",
       "2               NaN              13  pounds per megawatthour   \n",
       "3               NaN               8  pounds per megawatthour   \n",
       "4               NaN               9  pounds per megawatthour   \n",
       "\n",
       "  co2-thousand-metric-tons-units   nox-rate-lbs-mwh-units  \\\n",
       "0           thousand metric tons  pounds per megawatthour   \n",
       "1           thousand metric tons  pounds per megawatthour   \n",
       "2           thousand metric tons  pounds per megawatthour   \n",
       "3           thousand metric tons  pounds per megawatthour   \n",
       "4           thousand metric tons  pounds per megawatthour   \n",
       "\n",
       "  nox-short-tons-units   so2-rate-lbs-mwh-units so2-short-tons-units  \n",
       "0           short tons  pounds per megawatthour           short tons  \n",
       "1           short tons  pounds per megawatthour           short tons  \n",
       "2           short tons  pounds per megawatthour           short tons  \n",
       "3           short tons  pounds per megawatthour           short tons  \n",
       "4           short tons  pounds per megawatthour           short tons  "
      ]
     },
     "execution_count": 3,
     "metadata": {},
     "output_type": "execute_result"
    }
   ],
   "source": [
    "emissions_df.head()"
   ]
  },
  {
   "cell_type": "markdown",
   "metadata": {
    "id": "4Pc551lEcXqv"
   },
   "source": [
    "#### Filter and clean 2023 CO2 emissions data in California"
   ]
  },
  {
   "cell_type": "code",
   "execution_count": 4,
   "metadata": {
    "colab": {
     "base_uri": "https://localhost:8080/"
    },
    "id": "ZXf-iiZaWgvo",
    "outputId": "210898db-52fa-4ac9-bdb8-a5230ecf4fbd"
   },
   "outputs": [
    {
     "name": "stdout",
     "output_type": "stream",
     "text": [
      "Cleaned emissions data:\n",
      "     period  co2-thousand-metric-tons\n",
      "240    2023                     43360\n",
      "\n",
      "Data types:\n",
      "period                      int64\n",
      "co2-thousand-metric-tons    int64\n",
      "dtype: object\n"
     ]
    }
   ],
   "source": [
    "ca_emissions = emissions_df[emissions_df['stateid'] == 'CA']\n",
    "ca_2023_emissions = ca_emissions[ca_emissions['period'] == 2023]\n",
    "ca_2023_emissions_clean = ca_2023_emissions[\n",
    "    (ca_2023_emissions['stateid'] == 'CA') &\n",
    "    (ca_2023_emissions['fuelid'] == 'ALL')\n",
    "][['period', 'co2-thousand-metric-tons']]\n",
    "\n",
    "print(\"Cleaned emissions data:\")\n",
    "print(ca_2023_emissions_clean)\n",
    "print(\"\\nData types:\")\n",
    "print(ca_2023_emissions_clean.dtypes)"
   ]
  },
  {
   "cell_type": "code",
   "execution_count": 5,
   "metadata": {
    "colab": {
     "base_uri": "https://localhost:8080/",
     "height": 89
    },
    "id": "rvVgVkX7WliI",
    "outputId": "2ef3b4f6-1ba2-4108-aa84-2837704a4e7b"
   },
   "outputs": [
    {
     "data": {
      "text/html": [
       "<div>\n",
       "<style scoped>\n",
       "    .dataframe tbody tr th:only-of-type {\n",
       "        vertical-align: middle;\n",
       "    }\n",
       "\n",
       "    .dataframe tbody tr th {\n",
       "        vertical-align: top;\n",
       "    }\n",
       "\n",
       "    .dataframe thead th {\n",
       "        text-align: right;\n",
       "    }\n",
       "</style>\n",
       "<table border=\"1\" class=\"dataframe\">\n",
       "  <thead>\n",
       "    <tr style=\"text-align: right;\">\n",
       "      <th></th>\n",
       "      <th>period</th>\n",
       "      <th>co2-thousand-metric-tons</th>\n",
       "    </tr>\n",
       "  </thead>\n",
       "  <tbody>\n",
       "    <tr>\n",
       "      <th>240</th>\n",
       "      <td>2023</td>\n",
       "      <td>43360</td>\n",
       "    </tr>\n",
       "  </tbody>\n",
       "</table>\n",
       "</div>"
      ],
      "text/plain": [
       "     period  co2-thousand-metric-tons\n",
       "240    2023                     43360"
      ]
     },
     "execution_count": 5,
     "metadata": {},
     "output_type": "execute_result"
    }
   ],
   "source": [
    "ca_2023_emissions_clean"
   ]
  },
  {
   "cell_type": "code",
   "execution_count": 6,
   "metadata": {
    "colab": {
     "base_uri": "https://localhost:8080/",
     "height": 242
    },
    "id": "qF5XAmnMWn6b",
    "outputId": "265e525b-35fb-40de-dcdd-0796186ed4be"
   },
   "outputs": [
    {
     "data": {
      "text/html": [
       "<div>\n",
       "<style scoped>\n",
       "    .dataframe tbody tr th:only-of-type {\n",
       "        vertical-align: middle;\n",
       "    }\n",
       "\n",
       "    .dataframe tbody tr th {\n",
       "        vertical-align: top;\n",
       "    }\n",
       "\n",
       "    .dataframe thead th {\n",
       "        text-align: right;\n",
       "    }\n",
       "</style>\n",
       "<table border=\"1\" class=\"dataframe\">\n",
       "  <thead>\n",
       "    <tr style=\"text-align: right;\">\n",
       "      <th></th>\n",
       "      <th>month</th>\n",
       "    </tr>\n",
       "  </thead>\n",
       "  <tbody>\n",
       "    <tr>\n",
       "      <th>0</th>\n",
       "      <td>2023-01</td>\n",
       "    </tr>\n",
       "    <tr>\n",
       "      <th>1</th>\n",
       "      <td>2023-02</td>\n",
       "    </tr>\n",
       "    <tr>\n",
       "      <th>2</th>\n",
       "      <td>2023-03</td>\n",
       "    </tr>\n",
       "    <tr>\n",
       "      <th>3</th>\n",
       "      <td>2023-04</td>\n",
       "    </tr>\n",
       "    <tr>\n",
       "      <th>4</th>\n",
       "      <td>2023-05</td>\n",
       "    </tr>\n",
       "  </tbody>\n",
       "</table>\n",
       "</div>"
      ],
      "text/plain": [
       "     month\n",
       "0  2023-01\n",
       "1  2023-02\n",
       "2  2023-03\n",
       "3  2023-04\n",
       "4  2023-05"
      ]
     },
     "execution_count": 6,
     "metadata": {},
     "output_type": "execute_result"
    }
   ],
   "source": [
    "all_months = pd.date_range(start='2023-01-01', end='2023-12-31', freq='M')\n",
    "all_months_df = pd.DataFrame({'month': all_months.strftime('%Y-%m')})\n",
    "all_months_df.head()"
   ]
  },
  {
   "cell_type": "code",
   "execution_count": 7,
   "metadata": {
    "colab": {
     "base_uri": "https://localhost:8080/",
     "height": 206
    },
    "id": "1T7CpEkFWqEM",
    "outputId": "8274a277-c71d-4ba2-f51a-e3dc4f5c5aab"
   },
   "outputs": [
    {
     "data": {
      "text/html": [
       "<div>\n",
       "<style scoped>\n",
       "    .dataframe tbody tr th:only-of-type {\n",
       "        vertical-align: middle;\n",
       "    }\n",
       "\n",
       "    .dataframe tbody tr th {\n",
       "        vertical-align: top;\n",
       "    }\n",
       "\n",
       "    .dataframe thead th {\n",
       "        text-align: right;\n",
       "    }\n",
       "</style>\n",
       "<table border=\"1\" class=\"dataframe\">\n",
       "  <thead>\n",
       "    <tr style=\"text-align: right;\">\n",
       "      <th></th>\n",
       "      <th>date</th>\n",
       "      <th>datatype</th>\n",
       "      <th>station</th>\n",
       "      <th>attributes</th>\n",
       "      <th>value</th>\n",
       "    </tr>\n",
       "  </thead>\n",
       "  <tbody>\n",
       "    <tr>\n",
       "      <th>0</th>\n",
       "      <td>2023-01-01</td>\n",
       "      <td>TAVG</td>\n",
       "      <td>GHCND:USR0000CABS</td>\n",
       "      <td>,,U,</td>\n",
       "      <td>64</td>\n",
       "    </tr>\n",
       "    <tr>\n",
       "      <th>1</th>\n",
       "      <td>2023-01-01</td>\n",
       "      <td>TAVG</td>\n",
       "      <td>GHCND:USR0000CSFD</td>\n",
       "      <td>,,U,</td>\n",
       "      <td>123</td>\n",
       "    </tr>\n",
       "    <tr>\n",
       "      <th>2</th>\n",
       "      <td>2023-01-01</td>\n",
       "      <td>TAVG</td>\n",
       "      <td>GHCND:USR0000CSEC</td>\n",
       "      <td>,,U,</td>\n",
       "      <td>45</td>\n",
       "    </tr>\n",
       "    <tr>\n",
       "      <th>3</th>\n",
       "      <td>2023-01-01</td>\n",
       "      <td>TAVG</td>\n",
       "      <td>GHCND:USR0000CSDD</td>\n",
       "      <td>,,U,</td>\n",
       "      <td>-54</td>\n",
       "    </tr>\n",
       "    <tr>\n",
       "      <th>4</th>\n",
       "      <td>2023-01-01</td>\n",
       "      <td>TAVG</td>\n",
       "      <td>GHCND:USR0000CSDC</td>\n",
       "      <td>,,U,</td>\n",
       "      <td>29</td>\n",
       "    </tr>\n",
       "  </tbody>\n",
       "</table>\n",
       "</div>"
      ],
      "text/plain": [
       "         date datatype            station attributes  value\n",
       "0  2023-01-01     TAVG  GHCND:USR0000CABS       ,,U,     64\n",
       "1  2023-01-01     TAVG  GHCND:USR0000CSFD       ,,U,    123\n",
       "2  2023-01-01     TAVG  GHCND:USR0000CSEC       ,,U,     45\n",
       "3  2023-01-01     TAVG  GHCND:USR0000CSDD       ,,U,    -54\n",
       "4  2023-01-01     TAVG  GHCND:USR0000CSDC       ,,U,     29"
      ]
     },
     "execution_count": 7,
     "metadata": {},
     "output_type": "execute_result"
    }
   ],
   "source": [
    "temperature_df.head()"
   ]
  },
  {
   "cell_type": "code",
   "execution_count": 8,
   "metadata": {
    "colab": {
     "base_uri": "https://localhost:8080/"
    },
    "id": "qQH8_vPEWtPv",
    "outputId": "19947449-bd2c-4118-d7f0-4742741f9ce0"
   },
   "outputs": [
    {
     "name": "stdout",
     "output_type": "stream",
     "text": [
      "Monthly average temperatures (Celsius):\n",
      "      month       value\n",
      "0   2023-01    6.022309\n",
      "1   2023-02    5.218220\n",
      "2   2023-03    8.954648\n",
      "3   2023-04   40.973069\n",
      "4   2023-05   59.024418\n",
      "5   2023-06   74.128738\n",
      "6   2023-07  113.862444\n",
      "7   2023-08  103.899591\n",
      "8   2023-09   79.073974\n",
      "9   2023-10   64.043716\n",
      "10  2023-11   35.190453\n",
      "11  2023-12   25.527321\n",
      "\n",
      "Missing months:\n",
      "Empty DataFrame\n",
      "Columns: [month, value]\n",
      "Index: []\n"
     ]
    }
   ],
   "source": [
    "# Convert to Celsius and handle missing months\n",
    "temperature_df['month'] = temperature_df['date'].apply(lambda x: x[:7])\n",
    "monthly_temp = temperature_df[['month', 'value']].groupby('month').mean()\n",
    "monthly_temp['value'] = (monthly_temp['value'] - 32) * 5/9  # Convert F to C\n",
    "\n",
    "# Create a complete month range\n",
    "all_months = pd.date_range(start='2023-01-01', end='2023-12-31', freq='M')\n",
    "all_months_df = pd.DataFrame({'month': all_months.strftime('%Y-%m')})\n",
    "\n",
    "monthly_temp_complete = pd.merge(all_months_df, monthly_temp, on='month', how='left')\n",
    "\n",
    "print(\"Monthly average temperatures (Celsius):\")\n",
    "print(monthly_temp_complete)\n",
    "print(\"\\nMissing months:\")\n",
    "print(monthly_temp_complete[monthly_temp_complete['value'].isna()])"
   ]
  },
  {
   "cell_type": "code",
   "execution_count": 9,
   "metadata": {
    "colab": {
     "base_uri": "https://localhost:8080/"
    },
    "id": "w98j9fg7WvbQ",
    "outputId": "020315db-c665-4be6-e34f-31b935b257a1"
   },
   "outputs": [
    {
     "name": "stdout",
     "output_type": "stream",
     "text": [
      "Energy consumption data:\n",
      "     period        sales\n",
      "0   2024-01  20040.74935\n",
      "1   2023-12  18660.12634\n",
      "2   2023-11  18479.20564\n",
      "3   2023-10  20390.47299\n",
      "4   2023-09  22466.03859\n",
      "5   2023-08  25101.55563\n",
      "6   2023-07  23048.26218\n",
      "7   2023-06  19333.43379\n",
      "8   2023-05  18288.41200\n",
      "9   2023-04  16261.33366\n",
      "10  2023-03  19506.41869\n",
      "11  2023-02  17440.48579\n",
      "\n",
      "Data types:\n",
      "period               object\n",
      "stateid              object\n",
      "stateDescription     object\n",
      "sectorid             object\n",
      "sectorName           object\n",
      "sales               float64\n",
      "sales-units          object\n",
      "dtype: object\n"
     ]
    }
   ],
   "source": [
    "# Check energy data\n",
    "print(\"Energy consumption data:\")\n",
    "print(energy_df[energy_df['stateid'] == 'CA'][['period', 'sales']].head(12))\n",
    "print(\"\\nData types:\")\n",
    "print(energy_df.dtypes)"
   ]
  },
  {
   "cell_type": "markdown",
   "metadata": {
    "id": "Hq_Xr5-CcvMa"
   },
   "source": [
    "#### Prepare a final dataset for analyzing the relationship between temperature, energy demand, and emissions in 2023 California"
   ]
  },
  {
   "cell_type": "code",
   "execution_count": 10,
   "metadata": {
    "colab": {
     "base_uri": "https://localhost:8080/"
    },
    "id": "zQusn-_4WxUb",
    "outputId": "7a60a3bc-6575-4222-ca61-cacc91399a02"
   },
   "outputs": [
    {
     "name": "stdout",
     "output_type": "stream",
     "text": [
      "Final dataset for causal analysis:\n",
      "      month  temperature  energy_demand    emissions\n",
      "0   2023-01     6.022309    20504.70675  3613.333333\n",
      "1   2023-02     5.218220    17440.48579  3613.333333\n",
      "2   2023-03     8.954648    19506.41869  3613.333333\n",
      "3   2023-04    40.973069    16261.33366  3613.333333\n",
      "4   2023-05    59.024418    18288.41200  3613.333333\n",
      "5   2023-06    74.128738    19333.43379  3613.333333\n",
      "6   2023-07   113.862444    23048.26218  3613.333333\n",
      "7   2023-08   103.899591    25101.55563  3613.333333\n",
      "8   2023-09    79.073974    22466.03859  3613.333333\n",
      "9   2023-10    64.043716    20390.47299  3613.333333\n",
      "10  2023-11    35.190453    18479.20564  3613.333333\n",
      "11  2023-12    25.527321    18660.12634  3613.333333\n",
      "\n",
      "Data types:\n",
      "month             object\n",
      "temperature      float64\n",
      "energy_demand    float64\n",
      "emissions        float64\n",
      "dtype: object\n",
      "\n",
      "Correlations:\n",
      "               temperature  energy_demand  emissions\n",
      "temperature       1.000000       0.695788        NaN\n",
      "energy_demand     0.695788       1.000000        NaN\n",
      "emissions              NaN            NaN        NaN\n"
     ]
    }
   ],
   "source": [
    "# only include 2023\n",
    "energy_clean = energy_df[\n",
    "    (energy_df['stateid'] == 'CA') &\n",
    "    (energy_df['period'].str.startswith('2023'))\n",
    "].copy()\n",
    "\n",
    "energy_clean['month'] = pd.to_datetime(energy_clean['period']).dt.strftime('%Y-%m')\n",
    "final_df = pd.merge(monthly_temp, energy_clean[['month', 'sales']], on='month')\n",
    "final_df = final_df.rename(columns={'value': 'temperature', 'sales': 'energy_demand'})\n",
    "\n",
    "final_df['emissions'] = ca_2023_emissions_clean['co2-thousand-metric-tons'].values[0] / 12\n",
    "\n",
    "print(\"Final dataset for causal analysis:\")\n",
    "print(final_df)\n",
    "print(\"\\nData types:\")\n",
    "print(final_df.dtypes)\n",
    "\n",
    "# Basic correlations\n",
    "print(\"\\nCorrelations:\")\n",
    "print(final_df[['temperature', 'energy_demand', 'emissions']].corr())"
   ]
  },
  {
   "cell_type": "markdown",
   "metadata": {
    "id": "jnxzmoSJdgot"
   },
   "source": [
    "#### Analysis of the relationship between temperature and energy demand using linear regression"
   ]
  },
  {
   "cell_type": "code",
   "execution_count": 11,
   "metadata": {
    "colab": {
     "base_uri": "https://localhost:8080/",
     "height": 1000
    },
    "id": "YpqN_LOVWzWV",
    "outputId": "11117d6b-df9b-490e-e490-c1f032ea40ee"
   },
   "outputs": [
    {
     "name": "stdout",
     "output_type": "stream",
     "text": [
      "First Stage Results (Temperature -> Energy Demand):\n",
      "===============================================================================\n",
      "                  coef    std err          t      P>|t|      [0.025      0.975]\n",
      "-------------------------------------------------------------------------------\n",
      "const        1.753e+04    963.128     18.203      0.000    1.54e+04    1.97e+04\n",
      "temperature    47.2421     15.421      3.063      0.012      12.881      81.603\n",
      "===============================================================================\n"
     ]
    },
    {
     "name": "stderr",
     "output_type": "stream",
     "text": [
      "/Users/areeyatipyasothi/opt/anaconda3/lib/python3.9/site-packages/scipy/stats/_stats_py.py:1769: UserWarning: kurtosistest only valid for n>=20 ... continuing anyway, n=12\n",
      "  warnings.warn(\"kurtosistest only valid for n>=20 ... continuing \"\n"
     ]
    },
    {
     "data": {
      "image/png": "[encoded data removed]",
      "text/plain": [
       "<Figure size 1000x600 with 1 Axes>"
      ]
     },
     "metadata": {},
     "output_type": "display_data"
    },
    {
     "data": {
      "image/png": "[encoded data removed]",
      "text/plain": [
       "<Figure size 1000x600 with 1 Axes>"
      ]
     },
     "metadata": {},
     "output_type": "display_data"
    }
   ],
   "source": [
    "from statsmodels.stats.outliers_influence import variance_inflation_factor\n",
    "from statsmodels.regression.linear_model import OLS\n",
    "import statsmodels.api as sm\n",
    "\n",
    "X_first = sm.add_constant(final_df['temperature'])\n",
    "first_stage = sm.OLS(final_df['energy_demand'], X_first).fit()\n",
    "\n",
    "energy_demand_predicted = first_stage.predict(X_first)\n",
    "\n",
    "print(\"First Stage Results (Temperature -> Energy Demand):\")\n",
    "print(first_stage.summary().tables[1])\n",
    "\n",
    "import matplotlib.pyplot as plt\n",
    "\n",
    "# Plot actual vs predicted energy demand\n",
    "plt.figure(figsize=(10, 6))\n",
    "plt.scatter(final_df['temperature'], final_df['energy_demand'], alpha=0.5, label='Actual')\n",
    "plt.plot(final_df['temperature'], energy_demand_predicted, color='red', label='Predicted')\n",
    "plt.xlabel('Temperature (Celsius)')\n",
    "plt.ylabel('Energy Demand (million kWh)')\n",
    "plt.title('Temperature vs Energy Demand: First Stage Relationship')\n",
    "plt.legend()\n",
    "plt.show()\n",
    "\n",
    "# Plot residuals\n",
    "residuals = first_stage.resid\n",
    "plt.figure(figsize=(10, 6))\n",
    "plt.scatter(energy_demand_predicted, residuals)\n",
    "plt.axhline(y=0, color='r', linestyle='--')\n",
    "plt.xlabel('Predicted Energy Demand')\n",
    "plt.ylabel('Residuals')\n",
    "plt.title('First Stage Residual Plot')\n",
    "plt.show()"
   ]
  },
  {
   "cell_type": "code",
   "execution_count": 12,
   "metadata": {
    "colab": {
     "base_uri": "https://localhost:8080/"
    },
    "id": "URT-ewCuW2I5",
    "outputId": "6b13a1b7-c452-468e-c8af-56ffa29ff29d"
   },
   "outputs": [
    {
     "name": "stdout",
     "output_type": "stream",
     "text": [
      "                            OLS Regression Results                            \n",
      "==============================================================================\n",
      "Dep. Variable:              emissions   R-squared:                      -8.000\n",
      "Model:                            OLS   Adj. R-squared:                 -8.900\n",
      "Method:                 Least Squares   F-statistic:                    -8.889\n",
      "Date:                Fri, 06 Dec 2024   Prob (F-statistic):               1.00\n",
      "Time:                        22:30:33   Log-Likelihood:                 310.82\n",
      "No. Observations:                  12   AIC:                            -617.6\n",
      "Df Residuals:                      10   BIC:                            -616.7\n",
      "Df Model:                           1                                         \n",
      "Covariance Type:            nonrobust                                         \n",
      "==============================================================================\n",
      "                 coef    std err          t      P>|t|      [0.025      0.975]\n",
      "------------------------------------------------------------------------------\n",
      "const       3613.3333   5.14e-12   7.03e+14      0.000    3613.333    3613.333\n",
      "0           4.163e-17   2.57e-16      0.162      0.874    -5.3e-16    6.13e-16\n",
      "==============================================================================\n",
      "Omnibus:                          nan   Durbin-Watson:                   0.000\n",
      "Prob(Omnibus):                    nan   Jarque-Bera (JB):                  nan\n",
      "Skew:                             nan   Prob(JB):                          nan\n",
      "Kurtosis:                         nan   Cond. No.                     2.39e+05\n",
      "==============================================================================\n",
      "\n",
      "Notes:\n",
      "[1] Standard Errors assume that the covariance matrix of the errors is correctly specified.\n",
      "[2] The condition number is large, 2.39e+05. This might indicate that there are\n",
      "strong multicollinearity or other numerical problems.\n"
     ]
    },
    {
     "name": "stderr",
     "output_type": "stream",
     "text": [
      "/Users/areeyatipyasothi/opt/anaconda3/lib/python3.9/site-packages/statsmodels/stats/stattools.py:125: RuntimeWarning: Precision loss occurred in moment calculation due to catastrophic cancellation. This occurs when the data are nearly identical. Results may be unreliable.\n",
      "  skew = stats.skew(resids, axis=axis)\n",
      "/Users/areeyatipyasothi/opt/anaconda3/lib/python3.9/site-packages/statsmodels/stats/stattools.py:126: RuntimeWarning: Precision loss occurred in moment calculation due to catastrophic cancellation. This occurs when the data are nearly identical. Results may be unreliable.\n",
      "  kurtosis = 3 + stats.kurtosis(resids, axis=axis)\n",
      "/Users/areeyatipyasothi/opt/anaconda3/lib/python3.9/site-packages/scipy/stats/_stats_py.py:1667: RuntimeWarning: Precision loss occurred in moment calculation due to catastrophic cancellation. This occurs when the data are nearly identical. Results may be unreliable.\n",
      "  b2 = skew(a, axis)\n",
      "/Users/areeyatipyasothi/opt/anaconda3/lib/python3.9/site-packages/scipy/stats/_stats_py.py:1769: UserWarning: kurtosistest only valid for n>=20 ... continuing anyway, n=12\n",
      "  warnings.warn(\"kurtosistest only valid for n>=20 ... continuing \"\n",
      "/Users/areeyatipyasothi/opt/anaconda3/lib/python3.9/site-packages/scipy/stats/_stats_py.py:1771: RuntimeWarning: Precision loss occurred in moment calculation due to catastrophic cancellation. This occurs when the data are nearly identical. Results may be unreliable.\n",
      "  b2 = kurtosis(a, axis, fisher=False)\n"
     ]
    }
   ],
   "source": [
    "# Second stage regression\n",
    "X_second = sm.add_constant(energy_demand_predicted)\n",
    "second_stage = sm.OLS(final_df['emissions'], X_second).fit()\n",
    "print(second_stage.summary())"
   ]
  },
  {
   "cell_type": "markdown",
   "metadata": {
    "id": "vn-0Z4Ttd_uy"
   },
   "source": [
    "## Results\n",
    "Based on the first-stage regression results (independent variable: temperature; dependent variable: energy demand), higher temperatures are associated with increased energy consumption. \\\n",
    "However, the second-stage regression results indicate a constant value for the emissions data. The R-squared value is negative, showing that the model performs worse than a simple mean prediction, meaning a poor explanatory power for the model. This result may be due to the fact that the monthly emission data are large values, leading to low variability."
   ]
  },
  {
   "cell_type": "code",
   "execution_count": 13,
   "metadata": {
    "colab": {
     "base_uri": "https://localhost:8080/"
    },
    "id": "7AjaScjIW7K8",
    "outputId": "731a29ed-0625-48b1-f464-6cf68964be58"
   },
   "outputs": [
    {
     "name": "stdout",
     "output_type": "stream",
     "text": [
      "Updated emissions data:\n",
      "      month    emissions\n",
      "0   2023-01  3712.553894\n",
      "1   2023-02  3157.750277\n",
      "2   2023-03  3531.805236\n",
      "3   2023-04  2944.254621\n",
      "4   2023-05  3311.274626\n",
      "5   2023-06  3500.484829\n",
      "6   2023-07  4173.086528\n",
      "7   2023-08  4544.853005\n",
      "8   2023-09  4067.669928\n",
      "9   2023-10  3691.870887\n",
      "10  2023-11  3345.819459\n",
      "11  2023-12  3378.576711\n"
     ]
    }
   ],
   "source": [
    "# Distribute annual emissions based on energy demand\n",
    "total_energy = energy_clean['sales'].sum()  # Total energy demand for 2023\n",
    "final_df['emissions'] = final_df['energy_demand'] / total_energy * ca_2023_emissions_clean['co2-thousand-metric-tons'].values[0]\n",
    "\n",
    "print(\"Updated emissions data:\")\n",
    "print(final_df[['month', 'emissions']])"
   ]
  },
  {
   "cell_type": "markdown",
   "metadata": {
    "id": "H7csTdCThqSZ"
   },
   "source": [
    "### A refined model to account for non-linear effects"
   ]
  },
  {
   "cell_type": "code",
   "execution_count": 14,
   "metadata": {
    "colab": {
     "base_uri": "https://localhost:8080/"
    },
    "id": "7SygvFJ3W9G9",
    "outputId": "7f535633-b63c-4d9f-9375-ee68f5fc0e65"
   },
   "outputs": [
    {
     "name": "stdout",
     "output_type": "stream",
     "text": [
      "Second Stage Results (Energy Demand -> Emissions):\n",
      "                            OLS Regression Results                            \n",
      "==============================================================================\n",
      "Dep. Variable:              emissions   R-squared:                       0.681\n",
      "Model:                            OLS   Adj. R-squared:                  0.649\n",
      "Method:                 Least Squares   F-statistic:                     21.35\n",
      "Date:                Fri, 06 Dec 2024   Prob (F-statistic):           0.000949\n",
      "Time:                        22:30:33   Log-Likelihood:                -83.142\n",
      "No. Observations:                  12   AIC:                             170.3\n",
      "Df Residuals:                      10   BIC:                             171.3\n",
      "Df Model:                           1                                         \n",
      "Covariance Type:            nonrobust                                         \n",
      "==================================================================================================\n",
      "                                     coef    std err          t      P>|t|      [0.025      0.975]\n",
      "--------------------------------------------------------------------------------------------------\n",
      "const                          -2.274e-11    785.856  -2.89e-14      1.000   -1750.995    1750.995\n",
      "energy_demand_predicted_square     0.1811      0.039      4.621      0.001       0.094       0.268\n",
      "==============================================================================\n",
      "Omnibus:                        2.102   Durbin-Watson:                   1.789\n",
      "Prob(Omnibus):                  0.350   Jarque-Bera (JB):                0.926\n",
      "Skew:                          -0.147   Prob(JB):                        0.629\n",
      "Kurtosis:                       1.672   Cond. No.                     2.02e+05\n",
      "==============================================================================\n",
      "\n",
      "Notes:\n",
      "[1] Standard Errors assume that the covariance matrix of the errors is correctly specified.\n",
      "[2] The condition number is large, 2.02e+05. This might indicate that there are\n",
      "strong multicollinearity or other numerical problems.\n"
     ]
    },
    {
     "name": "stderr",
     "output_type": "stream",
     "text": [
      "/Users/areeyatipyasothi/opt/anaconda3/lib/python3.9/site-packages/scipy/stats/_stats_py.py:1769: UserWarning: kurtosistest only valid for n>=20 ... continuing anyway, n=12\n",
      "  warnings.warn(\"kurtosistest only valid for n>=20 ... continuing \"\n"
     ]
    }
   ],
   "source": [
    "# Add squared temperature term for non-linear effects\n",
    "final_df['temperature_squared'] = final_df['temperature'] ** (2)\n",
    "\n",
    "# First-stage regression (include non-linear term)\n",
    "X_first = sm.add_constant(final_df[['temperature', 'temperature_squared']])\n",
    "first_stage_square = sm.OLS(final_df['energy_demand'], X_first).fit()\n",
    "\n",
    "# Predict energy demand\n",
    "final_df['energy_demand_predicted_square'] = first_stage_square.predict(X_first)\n",
    "\n",
    "# Second-stage regression\n",
    "X_second = sm.add_constant(final_df['energy_demand_predicted_square'])\n",
    "second_stage = sm.OLS(final_df['emissions'], X_second).fit()\n",
    "\n",
    "# Print results\n",
    "print(\"Second Stage Results (Energy Demand -> Emissions):\")\n",
    "print(second_stage.summary())"
   ]
  },
  {
   "cell_type": "markdown",
   "metadata": {
    "id": "kJudxZuQiAGc"
   },
   "source": [
    "This refined model is much more explanatory. The energy demand coefficient is 0.1811, meaning each additional unit of predicted energy demand corresponds to a 0.1811 unit increase in emissions. This result suggests a linear relationship between higher energy demand and increased emissions."
   ]
  },
  {
   "cell_type": "code",
   "execution_count": 20,
   "metadata": {},
   "outputs": [
    {
     "name": "stdout",
     "output_type": "stream",
     "text": [
      "Second Stage Results (Energy Demand -> Emissions):\n",
      "                            OLS Regression Results                            \n",
      "==============================================================================\n",
      "Dep. Variable:              emissions   R-squared:                       0.681\n",
      "Model:                            OLS   Adj. R-squared:                  0.649\n",
      "Method:                 Least Squares   F-statistic:                     21.35\n",
      "Date:                Fri, 06 Dec 2024   Prob (F-statistic):           0.000949\n",
      "Time:                        22:33:59   Log-Likelihood:                -83.142\n",
      "No. Observations:                  12   AIC:                             170.3\n",
      "Df Residuals:                      10   BIC:                             171.3\n",
      "Df Model:                           1                                         \n",
      "Covariance Type:            nonrobust                                         \n",
      "================================================================================================\n",
      "                                   coef    std err          t      P>|t|      [0.025      0.975]\n",
      "------------------------------------------------------------------------------------------------\n",
      "const                        -2.274e-11    785.856  -2.89e-14      1.000   -1750.995    1750.995\n",
      "energy_demand_predicted_sqrt     0.1811      0.039      4.621      0.001       0.094       0.268\n",
      "==============================================================================\n",
      "Omnibus:                        2.102   Durbin-Watson:                   1.789\n",
      "Prob(Omnibus):                  0.350   Jarque-Bera (JB):                0.926\n",
      "Skew:                          -0.147   Prob(JB):                        0.629\n",
      "Kurtosis:                       1.672   Cond. No.                     2.02e+05\n",
      "==============================================================================\n",
      "\n",
      "Notes:\n",
      "[1] Standard Errors assume that the covariance matrix of the errors is correctly specified.\n",
      "[2] The condition number is large, 2.02e+05. This might indicate that there are\n",
      "strong multicollinearity or other numerical problems.\n"
     ]
    },
    {
     "name": "stderr",
     "output_type": "stream",
     "text": [
      "/Users/areeyatipyasothi/opt/anaconda3/lib/python3.9/site-packages/scipy/stats/_stats_py.py:1769: UserWarning: kurtosistest only valid for n>=20 ... continuing anyway, n=12\n",
      "  warnings.warn(\"kurtosistest only valid for n>=20 ... continuing \"\n"
     ]
    }
   ],
   "source": [
    "# Add squared temperature term for non-linear effects\n",
    "final_df['temperature_sqrt'] = final_df['temperature'] ** (1/2)\n",
    "\n",
    "# First-stage regression (include non-linear term)\n",
    "X_first = sm.add_constant(final_df[['temperature', 'temperature_squared']])\n",
    "first_stage_sqrt = sm.OLS(final_df['energy_demand'], X_first).fit()\n",
    "\n",
    "# Predict energy demand\n",
    "final_df['energy_demand_predicted_sqrt'] = first_stage_sqrt.predict(X_first)\n",
    "\n",
    "# Second-stage regression\n",
    "X_second = sm.add_constant(final_df['energy_demand_predicted_sqrt'])\n",
    "second_stage = sm.OLS(final_df['emissions'], X_second).fit()\n",
    "\n",
    "# Print results\n",
    "print(\"Second Stage Results (Energy Demand -> Emissions):\")\n",
    "print(second_stage.summary())"
   ]
  },
  {
   "cell_type": "code",
   "execution_count": 21,
   "metadata": {},
   "outputs": [
    {
     "name": "stdout",
     "output_type": "stream",
     "text": [
      "Second Stage Results (Energy Demand -> Emissions):\n",
      "                            OLS Regression Results                            \n",
      "==============================================================================\n",
      "Dep. Variable:              emissions   R-squared:                       0.681\n",
      "Model:                            OLS   Adj. R-squared:                  0.649\n",
      "Method:                 Least Squares   F-statistic:                     21.35\n",
      "Date:                Fri, 06 Dec 2024   Prob (F-statistic):           0.000949\n",
      "Time:                        22:34:14   Log-Likelihood:                -83.142\n",
      "No. Observations:                  12   AIC:                             170.3\n",
      "Df Residuals:                      10   BIC:                             171.3\n",
      "Df Model:                           1                                         \n",
      "Covariance Type:            nonrobust                                         \n",
      "===============================================================================================\n",
      "                                  coef    std err          t      P>|t|      [0.025      0.975]\n",
      "-----------------------------------------------------------------------------------------------\n",
      "const                       -2.274e-11    785.856  -2.89e-14      1.000   -1750.995    1750.995\n",
      "energy_demand_predicted_exp     0.1811      0.039      4.621      0.001       0.094       0.268\n",
      "==============================================================================\n",
      "Omnibus:                        2.102   Durbin-Watson:                   1.789\n",
      "Prob(Omnibus):                  0.350   Jarque-Bera (JB):                0.926\n",
      "Skew:                          -0.147   Prob(JB):                        0.629\n",
      "Kurtosis:                       1.672   Cond. No.                     2.02e+05\n",
      "==============================================================================\n",
      "\n",
      "Notes:\n",
      "[1] Standard Errors assume that the covariance matrix of the errors is correctly specified.\n",
      "[2] The condition number is large, 2.02e+05. This might indicate that there are\n",
      "strong multicollinearity or other numerical problems.\n"
     ]
    },
    {
     "name": "stderr",
     "output_type": "stream",
     "text": [
      "/Users/areeyatipyasothi/opt/anaconda3/lib/python3.9/site-packages/scipy/stats/_stats_py.py:1769: UserWarning: kurtosistest only valid for n>=20 ... continuing anyway, n=12\n",
      "  warnings.warn(\"kurtosistest only valid for n>=20 ... continuing \"\n"
     ]
    }
   ],
   "source": [
    "# Add squared temperature term for non-linear effects\n",
    "final_df['temperature_exp'] = np.exp(final_df['temperature']) \n",
    "\n",
    "# First-stage regression (include non-linear term)\n",
    "X_first = sm.add_constant(final_df[['temperature', 'temperature_squared']])\n",
    "first_stage_exp = sm.OLS(final_df['energy_demand'], X_first).fit()\n",
    "\n",
    "# Predict energy demand\n",
    "final_df['energy_demand_predicted_exp'] = first_stage.predict(X_first)\n",
    "\n",
    "# Second-stage regression\n",
    "X_second = sm.add_constant(final_df['energy_demand_predicted_exp'])\n",
    "second_stage = sm.OLS(final_df['emissions'], X_second).fit()\n",
    "\n",
    "# Print results\n",
    "print(\"Second Stage Results (Energy Demand -> Emissions):\")\n",
    "print(second_stage.summary())"
   ]
  },
  {
   "cell_type": "code",
   "execution_count": 22,
   "metadata": {},
   "outputs": [
    {
     "name": "stdout",
     "output_type": "stream",
     "text": [
      "Second Stage Results (Energy Demand -> Emissions):\n",
      "                            OLS Regression Results                            \n",
      "==============================================================================\n",
      "Dep. Variable:              emissions   R-squared:                       0.681\n",
      "Model:                            OLS   Adj. R-squared:                  0.649\n",
      "Method:                 Least Squares   F-statistic:                     21.35\n",
      "Date:                Fri, 06 Dec 2024   Prob (F-statistic):           0.000949\n",
      "Time:                        22:34:23   Log-Likelihood:                -83.142\n",
      "No. Observations:                  12   AIC:                             170.3\n",
      "Df Residuals:                      10   BIC:                             171.3\n",
      "Df Model:                           1                                         \n",
      "Covariance Type:            nonrobust                                         \n",
      "===============================================================================================\n",
      "                                  coef    std err          t      P>|t|      [0.025      0.975]\n",
      "-----------------------------------------------------------------------------------------------\n",
      "const                       -2.274e-11    785.856  -2.89e-14      1.000   -1750.995    1750.995\n",
      "energy_demand_predicted_log     0.1811      0.039      4.621      0.001       0.094       0.268\n",
      "==============================================================================\n",
      "Omnibus:                        2.102   Durbin-Watson:                   1.789\n",
      "Prob(Omnibus):                  0.350   Jarque-Bera (JB):                0.926\n",
      "Skew:                          -0.147   Prob(JB):                        0.629\n",
      "Kurtosis:                       1.672   Cond. No.                     2.02e+05\n",
      "==============================================================================\n",
      "\n",
      "Notes:\n",
      "[1] Standard Errors assume that the covariance matrix of the errors is correctly specified.\n",
      "[2] The condition number is large, 2.02e+05. This might indicate that there are\n",
      "strong multicollinearity or other numerical problems.\n"
     ]
    },
    {
     "name": "stderr",
     "output_type": "stream",
     "text": [
      "/Users/areeyatipyasothi/opt/anaconda3/lib/python3.9/site-packages/scipy/stats/_stats_py.py:1769: UserWarning: kurtosistest only valid for n>=20 ... continuing anyway, n=12\n",
      "  warnings.warn(\"kurtosistest only valid for n>=20 ... continuing \"\n"
     ]
    }
   ],
   "source": [
    "# Add squared temperature term for non-linear effects\n",
    "final_df['temperature_log'] = np.log(final_df['temperature'])\n",
    "\n",
    "# First-stage regression (include non-linear term)\n",
    "X_first = sm.add_constant(final_df[['temperature', 'temperature_squared']])\n",
    "first_stage_log = sm.OLS(final_df['energy_demand'], X_first).fit()\n",
    "\n",
    "# Predict energy demand\n",
    "final_df['energy_demand_predicted_log'] = first_stage_log.predict(X_first)\n",
    "\n",
    "# Second-stage regression\n",
    "X_second = sm.add_constant(final_df['energy_demand_predicted_log'])\n",
    "second_stage = sm.OLS(final_df['emissions'], X_second).fit()\n",
    "\n",
    "# Print results\n",
    "print(\"Second Stage Results (Energy Demand -> Emissions):\")\n",
    "print(second_stage.summary())"
   ]
  },
  {
   "cell_type": "code",
   "execution_count": 23,
   "metadata": {},
   "outputs": [
    {
     "name": "stdout",
     "output_type": "stream",
     "text": [
      "Second Stage Results (Energy Demand -> Emissions):\n",
      "                            OLS Regression Results                            \n",
      "==============================================================================\n",
      "Dep. Variable:              emissions   R-squared:                       0.681\n",
      "Model:                            OLS   Adj. R-squared:                  0.649\n",
      "Method:                 Least Squares   F-statistic:                     21.35\n",
      "Date:                Fri, 06 Dec 2024   Prob (F-statistic):           0.000949\n",
      "Time:                        22:34:35   Log-Likelihood:                -83.142\n",
      "No. Observations:                  12   AIC:                             170.3\n",
      "Df Residuals:                      10   BIC:                             171.3\n",
      "Df Model:                           1                                         \n",
      "Covariance Type:            nonrobust                                         \n",
      "===============================================================================================\n",
      "                                  coef    std err          t      P>|t|      [0.025      0.975]\n",
      "-----------------------------------------------------------------------------------------------\n",
      "const                       -2.274e-11    785.856  -2.89e-14      1.000   -1750.995    1750.995\n",
      "energy_demand_predicted_log     0.1811      0.039      4.621      0.001       0.094       0.268\n",
      "==============================================================================\n",
      "Omnibus:                        2.102   Durbin-Watson:                   1.789\n",
      "Prob(Omnibus):                  0.350   Jarque-Bera (JB):                0.926\n",
      "Skew:                          -0.147   Prob(JB):                        0.629\n",
      "Kurtosis:                       1.672   Cond. No.                     2.02e+05\n",
      "==============================================================================\n",
      "\n",
      "Notes:\n",
      "[1] Standard Errors assume that the covariance matrix of the errors is correctly specified.\n",
      "[2] The condition number is large, 2.02e+05. This might indicate that there are\n",
      "strong multicollinearity or other numerical problems.\n"
     ]
    },
    {
     "name": "stderr",
     "output_type": "stream",
     "text": [
      "/Users/areeyatipyasothi/opt/anaconda3/lib/python3.9/site-packages/scipy/stats/_stats_py.py:1769: UserWarning: kurtosistest only valid for n>=20 ... continuing anyway, n=12\n",
      "  warnings.warn(\"kurtosistest only valid for n>=20 ... continuing \"\n"
     ]
    }
   ],
   "source": [
    "# First-stage regression (include non-linear term)\n",
    "first_stage= sm.OLS(final_df['energy_demand'], X_first).fit()\n",
    "\n",
    "# Predict energy demand\n",
    "final_df['energy_demand_predicted'] = first_stage.predict(X_first)\n",
    "\n",
    "# Second-stage regression\n",
    "X_second = sm.add_constant(final_df['energy_demand_predicted_log'])\n",
    "second_stage = sm.OLS(final_df['emissions'], X_second).fit()\n",
    "\n",
    "# Print results\n",
    "print(\"Second Stage Results (Energy Demand -> Emissions):\")\n",
    "print(second_stage.summary())"
   ]
  },
  {
   "cell_type": "code",
   "execution_count": 24,
   "metadata": {},
   "outputs": [
    {
     "data": {
      "image/png": "[encoded data removed]",
      "text/plain": [
       "<Figure size 640x480 with 1 Axes>"
      ]
     },
     "metadata": {},
     "output_type": "display_data"
    },
    {
     "name": "stdout",
     "output_type": "stream",
     "text": [
      "Breusch-Pagan Test Results: (1.872583007901873, 0.17117953739248581, 1.8490233090658243, 0.20376457780510587)\n"
     ]
    }
   ],
   "source": [
    "# Residuals of second stage\n",
    "residuals = second_stage.resid\n",
    "\n",
    "# Residual plot\n",
    "plt.scatter(final_df['energy_demand_predicted'], residuals, alpha=0.5)\n",
    "plt.axhline(0, color='red', linestyle='--')\n",
    "plt.xlabel('Predicted Energy Demand')\n",
    "plt.ylabel('Residuals')\n",
    "plt.title('Residual Plot: Energy Demand -> Emissions')\n",
    "plt.show()\n",
    "\n",
    "# Breusch-Pagan test\n",
    "from statsmodels.stats.diagnostic import het_breuschpagan\n",
    "bp_test = het_breuschpagan(residuals, X_second)\n",
    "print(\"Breusch-Pagan Test Results:\", bp_test)\n"
   ]
  },
  {
   "cell_type": "code",
   "execution_count": 25,
   "metadata": {},
   "outputs": [
    {
     "data": {
      "text/plain": [
       "<Figure size 1000x600 with 0 Axes>"
      ]
     },
     "metadata": {},
     "output_type": "display_data"
    },
    {
     "data": {
      "image/png": "[encoded data removed]",
      "text/plain": [
       "<Figure size 640x480 with 1 Axes>"
      ]
     },
     "metadata": {},
     "output_type": "display_data"
    }
   ],
   "source": [
    "# Plot actual vs predicted energy demand\n",
    "plt.figure(figsize=(10, 6))\n",
    "fig, ax = plt.subplots()\n",
    "ax.scatter(final_df['temperature'], final_df['energy_demand'], alpha=0.5, label='Actual')\n",
    "ax.plot(final_df['temperature'], final_df['energy_demand_predicted_log'], color='red', label='Predicted_log')\n",
    "ax.plot(final_df['temperature'], final_df['energy_demand_predicted_square'], color='green', label='Predicted_square')\n",
    "ax.plot(final_df['temperature'], final_df['energy_demand_predicted_sqrt'], color='orange', label='Predicted_sqrt')\n",
    "ax.plot(final_df['temperature'], final_df['energy_demand_predicted'], color='black', label='Predicted')\n",
    "plt.xlabel('Temperature (Celsius)')\n",
    "plt.ylabel('Energy Demand (million kWh)')\n",
    "plt.title('Temperature vs Energy Demand: First Stage Relationship')\n",
    "plt.legend()\n",
    "plt.show()"
   ]
  },
  {
   "cell_type": "markdown",
   "metadata": {},
   "source": [
    "From our first stage model, we were able to see that some positive relationship between energy demand and temperature existed. We were able to find a better fitting model by using the square root of energy demand vs temperature, which we can clearly see performs better as indicated by the AIC and BIC and the slightly higher log-likelihood. \n",
    "\n",
    "There are limitations in our method, as we are extrapolating the emissions based on demand over the whole year. This does not take into account the possibility of energy prodution efficiency being different across different months (ie some months having a higher proportion created by renewable energy), and it does not fully dicount the confounder of seasonal changes in temperature. In addition, we have not taken into account the vast space and spread out nature of California, and the nonuniform nature of emissions across the state. Furthermore we are unable to account for levels of industrial activity through the state. Thus some next steps we will take is using the disaggregated time and place data which will potentially allow us to account for these changes in temperature as well as industrial impact across the state. We can also isolate times were the temperature rises above a certain level and compare energy use during those times to similar periods where there are more average temperatures. \n",
    "\n",
    "However our inital results do tell us as temperature increases, the demand for energy increases. Due to this, we can recommend having reserves or alternatives to energy use during times of high temperature as to reduce stress on the grid. "
   ]
  },
  {
   "cell_type": "markdown",
   "metadata": {
    "id": "J1Zu_KX5njax"
   },
   "source": [
    "### Try a Random Forest model"
   ]
  },
  {
   "cell_type": "code",
   "execution_count": 15,
   "metadata": {
    "colab": {
     "base_uri": "https://localhost:8080/"
    },
    "id": "lP9qiSlEnKJt",
    "outputId": "a98be01f-17ac-4565-c47f-50adec741820"
   },
   "outputs": [
    {
     "name": "stdout",
     "output_type": "stream",
     "text": [
      "Mean Squared Error: 116714.27204900718\n",
      "R-squared: -3.124607998474173\n",
      "Feature Importances:\n",
      "[0.35727305 0.35349779 0.28922915]\n"
     ]
    }
   ],
   "source": [
    "from sklearn.model_selection import train_test_split\n",
    "from sklearn.ensemble import RandomForestRegressor\n",
    "from sklearn.metrics import mean_squared_error, r2_score\n",
    "import matplotlib.pyplot as plt\n",
    "\n",
    "X = final_df[['temperature', 'temperature_squared', 'energy_demand_predicted_square']]\n",
    "y = final_df['emissions']\n",
    "X_train, X_test, y_train, y_test = train_test_split(X, y, test_size=0.2, random_state=42)\n",
    "\n",
    "rf = RandomForestRegressor(\n",
    "    n_estimators=100,\n",
    "    max_depth=None,\n",
    "    min_samples_split=2,\n",
    "    min_samples_leaf=1,\n",
    "    max_features='sqrt',\n",
    "    random_state=42\n",
    ")\n",
    "rf.fit(X_train, y_train)\n",
    "y_pred = rf.predict(X_test)\n",
    "\n",
    "mse = mean_squared_error(y_test, y_pred)\n",
    "r2 = r2_score(y_test, y_pred)\n",
    "\n",
    "print(f\"Mean Squared Error: {mse}\")\n",
    "print(f\"R-squared: {r2}\")\n",
    "print(\"Feature Importances:\")\n",
    "print(rf.feature_importances_)"
   ]
  },
  {
   "cell_type": "markdown",
   "metadata": {
    "id": "qbe3BAHfntvC"
   },
   "source": [
    "The negative R-square value suggests that the Random Forest model could not explain the variability of the emissions. And the large mean square error shows that the model bias is high. Therefore, this model performs worse than the previous linear model."
   ]
  },
  {
   "cell_type": "markdown",
   "metadata": {
    "id": "9h9n8HEkoWFh"
   },
   "source": [
    "## DAG of the variables"
   ]
  },
  {
   "cell_type": "code",
   "execution_count": 16,
   "metadata": {
    "colab": {
     "base_uri": "https://localhost:8080/",
     "height": 516
    },
    "id": "aqBKSBo7XA04",
    "outputId": "4b50f693-db2f-4fa8-ab91-c371c89d2c8a"
   },
   "outputs": [
    {
     "data": {
      "image/png": "[encoded data removed]",
      "text/plain": [
       "<Figure size 640x480 with 1 Axes>"
      ]
     },
     "metadata": {},
     "output_type": "display_data"
    }
   ],
   "source": [
    "import networkx as nx\n",
    "import matplotlib.pyplot as plt\n",
    "\n",
    "# Create causal dag\n",
    "cg = nx.DiGraph()\n",
    "# Variable strings\n",
    "elde = 'Electricity\\n demand'\n",
    "caem = 'Carbon\\n emissions'\n",
    "temex = 'Temperature\\n extremes'\n",
    "#confounders\n",
    "ecac = 'Economic\\nActivity'\n",
    "enpo = 'Energy\\npolicies'\n",
    "inim = 'Industrial\\nimpact'\n",
    "cg.add_edges_from([(elde, caem), (temex, elde), ('Confounders',elde),('Confounders',caem)])\n",
    "nx.draw(cg, with_labels=True,node_size=5000, node_color='lightgray')"
   ]
  },
  {
   "cell_type": "code",
   "execution_count": null,
   "metadata": {
    "id": "lkEEKmcwXC9k"
   },
   "outputs": [],
   "source": []
  }
 ],
 "metadata": {
  "colab": {
   "provenance": []
  },
  "kernelspec": {
   "display_name": "Python 3 (ipykernel)",
   "language": "python",
   "name": "python3"
  },
  "language_info": {
   "codemirror_mode": {
    "name": "ipython",
    "version": 3
   },
   "file_extension": ".py",
   "mimetype": "text/x-python",
   "name": "python",
   "nbconvert_exporter": "python",
   "pygments_lexer": "ipython3",
   "version": "3.9.13"
  }
 },
 "nbformat": 4,
 "nbformat_minor": 1
}
