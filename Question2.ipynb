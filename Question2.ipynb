{
  "nbformat": 4,
  "nbformat_minor": 0,
  "metadata": {
    "colab": {
      "provenance": [],
      "authorship_tag": "ABX9TyOMGn5+aqIKDIV8mBkwD+ua",
      "include_colab_link": true
    },
    "kernelspec": {
      "name": "python3",
      "display_name": "Python 3"
    },
    "language_info": {
      "name": "python"
    }
  },
  "cells": [
    {
      "cell_type": "markdown",
      "metadata": {
        "id": "view-in-github",
        "colab_type": "text"
      },
      "source": [
        "<a href=\"https://colab.research.google.com/github/nlemoff/data102project/blob/main/Question2.ipynb\" target=\"_parent\"><img src=\"https://colab.research.google.com/assets/colab-badge.svg\" alt=\"Open In Colab\"/></a>"
      ]
    },
    {
      "cell_type": "code",
      "source": [
        "import requests\n",
        "import pandas as pd\n",
        "from sklearn.utils import resample\n",
        "from sklearn.model_selection import train_test_split\n",
        "from sklearn.linear_model import LogisticRegression\n",
        "from sklearn.neighbors import KNeighborsClassifier\n",
        "from sklearn.metrics import classification_report, confusion_matrix\n",
        "\n",
        "api_key = 'vgyKsY7pYEHEeo0dncg7ho5nlLp0h2JjAAMBT6nL'\n",
        "\n",
        "# API endpoint\n",
        "url = 'https://api.eia.gov/v2/electricity/rto/daily-region-data/data/'\n",
        "\n",
        "def fetch_eia_data(data_type, respondent, start_date, end_date):\n",
        "    params = {\n",
        "        'frequency': 'daily',\n",
        "        'data[0]': 'value',\n",
        "        'facets[respondent][]': respondent,  # Balancing authority\n",
        "        'facets[type][]': data_type,  # 'D' for Demand, 'NG' for Net Generation\n",
        "        'start': start_date,\n",
        "        'end': end_date,\n",
        "        'api_key': api_key\n",
        "    }\n",
        "    response = requests.get(url, params=params)\n",
        "    if response.status_code == 200:\n",
        "        return pd.DataFrame(response.json()['response']['data'])\n",
        "    else:\n",
        "        print(f\"Error: {response.status_code}\")\n",
        "        print(response.json())\n",
        "        return pd.DataFrame()\n",
        "\n",
        "df_demand = fetch_eia_data('D', 'CISO', '2023-01-01', '2023-06-30')  # Early year (likely low demand)\n",
        "df_demand_high = fetch_eia_data('D', 'CISO', '2023-07-01', '2023-12-31')  # Late year (likely high demand)\n",
        "\n",
        "df_supply = fetch_eia_data('NG', 'CISO', '2023-01-01', '2023-06-30')\n",
        "df_supply_high = fetch_eia_data('NG', 'CISO', '2023-07-01', '2023-12-31')\n",
        "\n",
        "df_demand = pd.concat([df_demand, df_demand_high], ignore_index=True)\n",
        "df_supply = pd.concat([df_supply, df_supply_high], ignore_index=True)\n",
        "\n",
        "df_combined = pd.merge(\n",
        "    df_demand, df_supply,\n",
        "    on=['period', 'respondent', 'timezone'],\n",
        "    suffixes=('_demand', '_supply')\n",
        ")\n",
        "\n",
        "df_combined['demand_exceeds_supply'] = df_combined['value_demand'] > df_combined['value_supply']\n",
        "\n",
        "true_cases = df_combined[df_combined['demand_exceeds_supply'] == True]\n",
        "false_cases = df_combined[df_combined['demand_exceeds_supply'] == False]\n",
        "\n",
        "false_cases_upsampled = resample(false_cases, replace=True, n_samples=len(true_cases), random_state=42)\n",
        "\n",
        "df_balanced = pd.concat([true_cases, false_cases_upsampled])\n",
        "\n",
        "features = ['value_demand', 'value_supply']\n",
        "X = df_balanced[features]\n",
        "y = df_balanced['demand_exceeds_supply']\n",
        "\n",
        "X_train, X_test, y_train, y_test = train_test_split(X, y, test_size=0.2, random_state=42)\n",
        "\n",
        "glm = LogisticRegression()\n",
        "glm.fit(X_train, y_train)\n",
        "y_pred_glm = glm.predict(X_test)\n",
        "\n",
        "knn = KNeighborsClassifier(n_neighbors=5)\n",
        "knn.fit(X_train, y_train)\n",
        "y_pred_knn = knn.predict(X_test)\n",
        "\n",
        "print(\"Logistic Regression Results:\")\n",
        "print(classification_report(y_test, y_pred_glm))\n",
        "print(\"Confusion Matrix:\\n\", confusion_matrix(y_test, y_pred_glm))\n",
        "\n",
        "print(\"\\nKNN Results:\")\n",
        "print(classification_report(y_test, y_pred_knn))\n",
        "print(\"Confusion Matrix:\\n\", confusion_matrix(y_test, y_pred_knn))"
      ],
      "metadata": {
        "colab": {
          "base_uri": "https://localhost:8080/"
        },
        "id": "P5K1bTChzte2",
        "outputId": "ed3d9a5e-746d-4446-82b5-ebc4b429d361"
      },
      "execution_count": null,
      "outputs": [
        {
          "output_type": "stream",
          "name": "stdout",
          "text": [
            "Logistic Regression Results:\n",
            "              precision    recall  f1-score   support\n",
            "\n",
            "       False       1.00      1.00      1.00       347\n",
            "        True       1.00      1.00      1.00       379\n",
            "\n",
            "    accuracy                           1.00       726\n",
            "   macro avg       1.00      1.00      1.00       726\n",
            "weighted avg       1.00      1.00      1.00       726\n",
            "\n",
            "Confusion Matrix:\n",
            " [[347   0]\n",
            " [  1 378]]\n",
            "\n",
            "KNN Results:\n",
            "              precision    recall  f1-score   support\n",
            "\n",
            "       False       1.00      1.00      1.00       347\n",
            "        True       1.00      1.00      1.00       379\n",
            "\n",
            "    accuracy                           1.00       726\n",
            "   macro avg       1.00      1.00      1.00       726\n",
            "weighted avg       1.00      1.00      1.00       726\n",
            "\n",
            "Confusion Matrix:\n",
            " [[347   0]\n",
            " [  1 378]]\n"
          ]
        }
      ]
    },
    {
      "cell_type": "code",
      "source": [],
      "metadata": {
        "id": "7m8WQUwIz1Xj"
      },
      "execution_count": null,
      "outputs": []
    },
    {
      "cell_type": "code",
      "source": [],
      "metadata": {
        "id": "SiWzNqnkzvIn"
      },
      "execution_count": null,
      "outputs": []
    },
    {
      "cell_type": "code",
      "source": [],
      "metadata": {
        "id": "idUgY2yLCwHw"
      },
      "execution_count": null,
      "outputs": []
    },
    {
      "cell_type": "code",
      "source": [
        "import requests\n",
        "import pandas as pd\n",
        "from sklearn.utils import resample\n",
        "from sklearn.model_selection import train_test_split\n",
        "from sklearn.linear_model import LogisticRegression\n",
        "from sklearn.neighbors import KNeighborsClassifier\n",
        "from sklearn.metrics import classification_report, confusion_matrix\n",
        "\n",
        "# Your EIA API key\n",
        "api_key = 'vgyKsY7pYEHEeo0dncg7ho5nlLp0h2JjAAMBT6nL'\n",
        "\n",
        "# API endpoint\n",
        "url = 'https://api.eia.gov/v2/electricity/rto/daily-region-data/data/'\n",
        "\n",
        "def fetch_eia_data(data_type, respondent, start_date, end_date):\n",
        "    params = {\n",
        "        'frequency': 'daily',\n",
        "        'data[0]': 'value',\n",
        "        'facets[respondent][]': respondent,  # Balancing authority\n",
        "        'facets[type][]': data_type,  # 'D' for Demand, 'NG' for Net Generation\n",
        "        'start': start_date,\n",
        "        'end': end_date,\n",
        "        'api_key': api_key\n",
        "    }\n",
        "    response = requests.get(url, params=params)\n",
        "    if response.status_code == 200:\n",
        "        return pd.DataFrame(response.json()['response']['data'])\n",
        "    else:\n",
        "        print(f\"Error: {response.status_code}\")\n",
        "        print(response.json())\n",
        "        return pd.DataFrame()\n",
        "\n",
        "df_demand = fetch_eia_data('D', 'CISO', '2023-01-01', '2023-06-30')  # Early year (likely low demand)\n",
        "df_demand_high = fetch_eia_data('D', 'CISO', '2023-07-01', '2023-12-31')  # Late year (likely high demand)\n",
        "\n",
        "df_supply = fetch_eia_data('NG', 'CISO', '2023-01-01', '2023-06-30')\n",
        "df_supply_high = fetch_eia_data('NG', 'CISO', '2023-07-01', '2023-12-31')\n",
        "\n",
        "df_demand = pd.concat([df_demand, df_demand_high], ignore_index=True)\n",
        "df_supply = pd.concat([df_supply, df_supply_high], ignore_index=True)\n",
        "\n",
        "df_combined = pd.merge(\n",
        "    df_demand, df_supply,\n",
        "    on=['period', 'respondent', 'timezone'],\n",
        "    suffixes=('_demand', '_supply')\n",
        ")\n",
        "\n",
        "# Load temperature data\n",
        "temperature_data_path = 'temperature_data_2023.csv'\n",
        "df_temperature = pd.read_csv(temperature_data_path)\n",
        "\n",
        "df_temperature['date'] = pd.to_datetime(df_temperature['date'])\n",
        "df_temperature_agg = df_temperature.groupby('date')['value'].mean().reset_index()\n",
        "df_temperature_agg.rename(columns={'value': 'avg_temperature'}, inplace=True)\n",
        "\n",
        "df_combined['date'] = pd.to_datetime(df_combined['period'])\n",
        "\n",
        "# Merge with aggregated temperature data\n",
        "df_combined = pd.merge(\n",
        "    df_combined,\n",
        "    df_temperature_agg,\n",
        "    on='date',\n",
        "    how='left'\n",
        ")\n",
        "\n",
        "# Define thresholds for heatwaves and cold snaps\n",
        "heatwave_threshold = df_combined['avg_temperature'].quantile(0.95)\n",
        "cold_snap_threshold = df_combined['avg_temperature'].quantile(0.05)\n",
        "\n",
        "# Add flags for extreme weather\n",
        "df_combined['is_heatwave'] = (df_combined['avg_temperature'] > heatwave_threshold).astype(int)\n",
        "df_combined['is_cold_snap'] = (df_combined['avg_temperature'] < cold_snap_threshold).astype(int)\n",
        "\n",
        "df_combined['demand_exceeds_supply'] = df_combined['value_demand'] > df_combined['value_supply']\n",
        "true_cases = df_combined[df_combined['demand_exceeds_supply'] == True]\n",
        "false_cases = df_combined[df_combined['demand_exceeds_supply'] == False]\n",
        "false_cases_upsampled = resample(false_cases, replace=True, n_samples=len(true_cases), random_state=42)\n",
        "df_balanced = pd.concat([true_cases, false_cases_upsampled])\n",
        "features = ['value_demand', 'value_supply', 'avg_temperature', 'is_heatwave', 'is_cold_snap']\n",
        "X = df_balanced[features]\n",
        "y = df_balanced['demand_exceeds_supply']\n",
        "\n",
        "# Split data into training and test sets\n",
        "X_train, X_test, y_train, y_test = train_test_split(X, y, test_size=0.2, random_state=42)\n",
        "\n",
        "# Train Logistic Regression Model\n",
        "glm = LogisticRegression()\n",
        "glm.fit(X_train, y_train)\n",
        "y_pred_glm = glm.predict(X_test)\n",
        "\n",
        "# Train KNN Model\n",
        "knn = KNeighborsClassifier(n_neighbors=5)\n",
        "knn.fit(X_train, y_train)\n",
        "y_pred_knn = knn.predict(X_test)\n",
        "\n",
        "# Evaluate Models\n",
        "print(\"Logistic Regression Results:\")\n",
        "print(classification_report(y_test, y_pred_glm))\n",
        "print(\"Confusion Matrix:\\n\", confusion_matrix(y_test, y_pred_glm))\n",
        "\n",
        "print(\"\\nKNN Results:\")\n",
        "print(classification_report(y_test, y_pred_knn))\n",
        "print(\"Confusion Matrix:\\n\", confusion_matrix(y_test, y_pred_knn))\n"
      ],
      "metadata": {
        "colab": {
          "base_uri": "https://localhost:8080/"
        },
        "id": "nIV9En503jvN",
        "outputId": "1462cb07-2a86-46e5-ae52-14d83e917def"
      },
      "execution_count": null,
      "outputs": [
        {
          "output_type": "stream",
          "name": "stdout",
          "text": [
            "Logistic Regression Results:\n",
            "              precision    recall  f1-score   support\n",
            "\n",
            "       False       1.00      1.00      1.00       347\n",
            "        True       1.00      1.00      1.00       379\n",
            "\n",
            "    accuracy                           1.00       726\n",
            "   macro avg       1.00      1.00      1.00       726\n",
            "weighted avg       1.00      1.00      1.00       726\n",
            "\n",
            "Confusion Matrix:\n",
            " [[347   0]\n",
            " [  1 378]]\n",
            "\n",
            "KNN Results:\n",
            "              precision    recall  f1-score   support\n",
            "\n",
            "       False       1.00      1.00      1.00       347\n",
            "        True       1.00      1.00      1.00       379\n",
            "\n",
            "    accuracy                           1.00       726\n",
            "   macro avg       1.00      1.00      1.00       726\n",
            "weighted avg       1.00      1.00      1.00       726\n",
            "\n",
            "Confusion Matrix:\n",
            " [[347   0]\n",
            " [  1 378]]\n"
          ]
        }
      ]
    },
    {
      "cell_type": "code",
      "source": [
        "print(\"Class distribution after balancing:\")\n",
        "print(df_balanced['demand_exceeds_supply'].value_counts())\n",
        "\n",
        "print(\"Feature distribution for 'True' cases:\")\n",
        "print(df_balanced[df_balanced['demand_exceeds_supply'] == True][features].describe())\n",
        "\n",
        "print(\"\\nFeature distribution for 'False' cases:\")\n",
        "print(df_balanced[df_balanced['demand_exceeds_supply'] == False][features].describe())\n"
      ],
      "metadata": {
        "colab": {
          "base_uri": "https://localhost:8080/"
        },
        "id": "s38OgqpN4e87",
        "outputId": "f3fca6c4-2323-4272-dfab-551f72c14483"
      },
      "execution_count": null,
      "outputs": [
        {
          "output_type": "stream",
          "name": "stdout",
          "text": [
            "Class distribution after balancing:\n",
            "demand_exceeds_supply\n",
            "True     1813\n",
            "False    1813\n",
            "Name: count, dtype: int64\n",
            "Feature distribution for 'True' cases:\n",
            "       avg_temperature  is_heatwave  is_cold_snap\n",
            "count      1813.000000  1813.000000   1813.000000\n",
            "mean        126.225630     0.046332      0.049641\n",
            "std          70.383915     0.210261      0.217263\n",
            "min         -14.009677     0.000000      0.000000\n",
            "25%          66.337621     0.000000      0.000000\n",
            "50%         125.474522     0.000000      0.000000\n",
            "75%         184.656716     0.000000      0.000000\n",
            "max         278.203125     1.000000      1.000000\n",
            "\n",
            "Feature distribution for 'False' cases:\n",
            "       avg_temperature  is_heatwave  is_cold_snap\n",
            "count      1813.000000  1813.000000        1813.0\n",
            "mean        168.522172     0.495863           0.0\n",
            "std          79.607686     0.500121           0.0\n",
            "min          79.935691     0.000000           0.0\n",
            "25%          79.935691     0.000000           0.0\n",
            "50%         139.520900     0.000000           0.0\n",
            "75%         246.365079     1.000000           0.0\n",
            "max         250.173633     1.000000           0.0\n"
          ]
        }
      ]
    },
    {
      "cell_type": "code",
      "source": [
        "numeric_columns = df_balanced[['value_demand', 'value_supply', 'avg_temperature', 'is_heatwave', 'is_cold_snap', 'demand_exceeds_supply']]\n",
        "correlations = numeric_columns.corr()\n",
        "\n",
        "print(\"Correlation with 'demand_exceeds_supply':\")\n",
        "print(correlations['demand_exceeds_supply'].sort_values(ascending=False))"
      ],
      "metadata": {
        "colab": {
          "base_uri": "https://localhost:8080/"
        },
        "id": "hDfcunUT4h87",
        "outputId": "c7ad6c53-3f67-4900-85df-0f7fb2e79423"
      },
      "execution_count": null,
      "outputs": [
        {
          "output_type": "stream",
          "name": "stdout",
          "text": [
            "Correlation with 'demand_exceeds_supply':\n",
            "demand_exceeds_supply    1.000000\n",
            "is_cold_snap             0.159538\n",
            "avg_temperature         -0.271003\n",
            "value_demand            -0.275520\n",
            "is_heatwave             -0.505629\n",
            "value_supply            -0.596277\n",
            "Name: demand_exceeds_supply, dtype: float64\n"
          ]
        }
      ]
    },
    {
      "cell_type": "code",
      "source": [
        "# Weather features only\n",
        "features_weather = ['avg_temperature', 'is_heatwave', 'is_cold_snap']\n",
        "X_weather = df_balanced[features_weather]\n",
        "\n",
        "X_train_w, X_test_w, y_train_w, y_test_w = train_test_split(X_weather, y, test_size=0.2, random_state=42)\n",
        "\n",
        "glm_w = LogisticRegression()\n",
        "glm_w.fit(X_train_w, y_train_w)\n",
        "y_pred_glm_w = glm_w.predict(X_test_w)\n",
        "print(\"Logistic Regression (Weather Features Only):\")\n",
        "print(classification_report(y_test_w, y_pred_glm_w))\n",
        "\n",
        "knn_w = KNeighborsClassifier(n_neighbors=5)\n",
        "knn_w.fit(X_train_w, y_train_w)\n",
        "y_pred_knn_w = knn_w.predict(X_test_w)\n",
        "print(\"\\nKNN (Weather Features Only):\")\n",
        "print(classification_report(y_test_w, y_pred_knn_w))"
      ],
      "metadata": {
        "colab": {
          "base_uri": "https://localhost:8080/"
        },
        "id": "OYQeJfJK5Aj6",
        "outputId": "df3c79e9-31b1-438a-b8f3-203a66edfa4d"
      },
      "execution_count": null,
      "outputs": [
        {
          "output_type": "stream",
          "name": "stdout",
          "text": [
            "Logistic Regression (Weather Features Only):\n",
            "              precision    recall  f1-score   support\n",
            "\n",
            "       False       0.67      0.46      0.54       347\n",
            "        True       0.61      0.79      0.69       379\n",
            "\n",
            "    accuracy                           0.63       726\n",
            "   macro avg       0.64      0.62      0.62       726\n",
            "weighted avg       0.64      0.63      0.62       726\n",
            "\n",
            "\n",
            "KNN (Weather Features Only):\n",
            "              precision    recall  f1-score   support\n",
            "\n",
            "       False       0.99      1.00      0.99       347\n",
            "        True       1.00      0.99      0.99       379\n",
            "\n",
            "    accuracy                           0.99       726\n",
            "   macro avg       0.99      0.99      0.99       726\n",
            "weighted avg       0.99      0.99      0.99       726\n",
            "\n"
          ]
        }
      ]
    }
  ]
}